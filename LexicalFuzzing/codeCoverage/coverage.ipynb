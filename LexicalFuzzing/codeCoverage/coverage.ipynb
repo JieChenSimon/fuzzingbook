{
 "cells": [
  {
   "cell_type": "markdown",
   "metadata": {},
   "source": [
    "### 这是一个CGI (Common Gateway Interface) URL解码函数，用于将编码后的URL字符串转换回原始字符串。\n",
    "\n",
    "主要处理两种情况：\n",
    "- 将+符号转换为空格\n",
    "- 将%xx格式的十六进制编码转换为对应的ASCII字符\n",
    "\n",
    "\n",
    "### URL编码是将URL中的非ASCII字符和特殊字符转换为可以安全传输的格式。\n",
    "\n",
    "### 为什么需要URL编码？\n",
    "- URL只能使用ASCII字符集\n",
    "- 某些字符在URL中有特殊含义（如 /, ?, &, = 等）\n",
    "- 需要传输非英文字符（如中文、日文等）"
   ]
  },
  {
   "cell_type": "code",
   "execution_count": null,
   "metadata": {},
   "outputs": [],
   "source": [
    "def cgi_decode(s: str) -> str:\n",
    "    \"\"\"Decode the CGI-encoded string `s`:\n",
    "       * replace '+' by ' '\n",
    "       * replace \"%xx\" by the character with hex number xx.\n",
    "       Return the decoded string.  Raise `ValueError` for invalid inputs.\"\"\"\n",
    "\n",
    "    # Mapping of hex digits to their integer values\n",
    "    hex_values = {\n",
    "        '0': 0, '1': 1, '2': 2, '3': 3, '4': 4,\n",
    "        '5': 5, '6': 6, '7': 7, '8': 8, '9': 9,\n",
    "        'a': 10, 'b': 11, 'c': 12, 'd': 13, 'e': 14, 'f': 15,\n",
    "        'A': 10, 'B': 11, 'C': 12, 'D': 13, 'E': 14, 'F': 15,\n",
    "    }\n",
    "\n",
    "    t = \"\"\n",
    "    i = 0\n",
    "    # decode the string\n",
    "        # 逐字符遍历输入字符串\n",
    "        # 遇到+转换为空格\n",
    "        # 遇到%则读取后续两个字符作为十六进制数\n",
    "        # digit_high和digit_low分别代表十六进制数的高位和低位\n",
    "    while i < len(s):\n",
    "        c = s[i]\n",
    "        if c == '+':\n",
    "            t += ' '\n",
    "        elif c == '%':\n",
    "            digit_high, digit_low = s[i + 1], s[i + 2]\n",
    "            i += 2\n",
    "            if digit_high in hex_values and digit_low in hex_values:\n",
    "                v = hex_values[digit_high] * 16 + hex_values[digit_low]\n",
    "                t += chr(v)\n",
    "            else:\n",
    "                raise ValueError(\"Invalid encoding\")\n",
    "        else:\n",
    "            t += c\n",
    "        i += 1\n",
    "    return t"
   ]
  }
 ],
 "metadata": {
  "kernelspec": {
   "display_name": "base",
   "language": "python",
   "name": "python3"
  },
  "language_info": {
   "codemirror_mode": {
    "name": "ipython",
    "version": 3
   },
   "file_extension": ".py",
   "mimetype": "text/x-python",
   "name": "python",
   "nbconvert_exporter": "python",
   "pygments_lexer": "ipython3",
   "version": "3.12.2"
  }
 },
 "nbformat": 4,
 "nbformat_minor": 2
}
